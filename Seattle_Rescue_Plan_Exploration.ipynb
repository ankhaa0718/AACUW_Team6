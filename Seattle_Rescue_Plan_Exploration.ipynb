{
 "cells": [
  {
   "cell_type": "code",
   "execution_count": 3,
   "metadata": {},
   "outputs": [],
   "source": [
    "from sklearn.metrics import mean_squared_error\n",
    "import pandas as pd\n",
    "import numpy as np"
   ]
  },
  {
   "cell_type": "code",
   "execution_count": 4,
   "metadata": {},
   "outputs": [],
   "source": [
    "df = pd.read_csv(\"Seattle_Rescue_Plan.csv\")"
   ]
  },
  {
   "cell_type": "code",
   "execution_count": 18,
   "metadata": {},
   "outputs": [
    {
     "name": "stdout",
     "output_type": "stream",
     "text": [
      "(86, 13)\n",
      "Index(['program_id', 'dept_full', 'dept_acr', 'seattle_rescue_plan',\n",
      "       'category', 'public_name', 'funding_source', 'main_objective',\n",
      "       'budgeted', 'expenditures', 'encumbrances', 'total_spent',\n",
      "       'program_status'],\n",
      "      dtype='object')\n"
     ]
    }
   ],
   "source": [
    "print(df.shape)\n",
    "\n",
    "print(df.columns)"
   ]
  },
  {
   "cell_type": "code",
   "execution_count": 20,
   "metadata": {},
   "outputs": [
    {
     "name": "stdout",
     "output_type": "stream",
     "text": [
      "Index(['program_id', 'dept_full', 'dept_acr', 'seattle_rescue_plan',\n",
      "       'category', 'public_name', 'funding_source', 'main_objective',\n",
      "       'budgeted', 'expenditures', 'encumbrances', 'total_spent',\n",
      "       'program_status'],\n",
      "      dtype='object')\n"
     ]
    }
   ],
   "source": [
    "# Rename columns for ease of use\n",
    "df.rename(columns={'Program ID': 'program_id', \n",
    "                   'Dept (Full Name)': 'dept_full',\n",
    "                   'Dept (Acronym)': 'dept_acr',\n",
    "                   'Seattle Rescue Plan': 'seattle_rescue_plan',\n",
    "                   'Category of Investment': 'category',\n",
    "                   'Item Name for the Public': 'public_name',\n",
    "                   'Funding Source': 'funding_source',\n",
    "                   'Item Main Objective': 'main_objective',\n",
    "                   'Budgeted': 'budgeted',\n",
    "                   'Expenditures': 'expenditures',\n",
    "                   'Encumbrances': 'encumbrances',\n",
    "                   'Total Spent  \\n(Expenditures + Encumbrances)': 'total_spent',\n",
    "                   'Program Status': 'program_status'\n",
    "                   }, \n",
    "                   inplace=True)\n",
    "\n",
    "\n",
    "print(df.columns)"
   ]
  },
  {
   "cell_type": "code",
   "execution_count": 21,
   "metadata": {},
   "outputs": [
    {
     "name": "stdout",
     "output_type": "stream",
     "text": [
      "                                           category_sum\n",
      "category                                               \n",
      "Community & Small Business Recovery            45919360\n",
      "Community Safety & Mental Health                5346540\n",
      "Community Well-Being & Reopening Services      55719051\n",
      "Housing & Homelessness                         85314397\n",
      "Supporting City Workers & Services             71911908\n"
     ]
    }
   ],
   "source": [
    "# df['category of investment']\n",
    "\n",
    "# print(df['total spent'].agg))\n",
    "\n",
    "cat_df = df.groupby('category')\n",
    "# print(cat_df.first())\n",
    "\n",
    "print(cat_df.agg(category_sum = (\"total_spent\", \"sum\")))\n",
    "\n",
    "# aggregated_data = df.groupby(['Team', 'Position']).agg(\n",
    "#     total_salary=('Salary', 'sum'),\n",
    "#     avg_salary=('Salary', 'mean'),\n",
    "#     player_count=('Name', 'count')\n",
    "# )"
   ]
  },
  {
   "cell_type": "code",
   "execution_count": 12,
   "metadata": {},
   "outputs": [
    {
     "name": "stdout",
     "output_type": "stream",
     "text": [
      "Hello!\n"
     ]
    }
   ],
   "source": [
    "print(\"Hello!\")"
   ]
  }
 ],
 "metadata": {
  "kernelspec": {
   "display_name": "base",
   "language": "python",
   "name": "python3"
  },
  "language_info": {
   "codemirror_mode": {
    "name": "ipython",
    "version": 3
   },
   "file_extension": ".py",
   "mimetype": "text/x-python",
   "name": "python",
   "nbconvert_exporter": "python",
   "pygments_lexer": "ipython3",
   "version": "3.11.5"
  }
 },
 "nbformat": 4,
 "nbformat_minor": 2
}
